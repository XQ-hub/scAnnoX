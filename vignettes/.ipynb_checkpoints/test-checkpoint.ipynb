{
 "cells": [
  {
   "cell_type": "code",
   "execution_count": null,
   "id": "d867221d",
   "metadata": {},
   "outputs": [],
   "source": [
    "library(SingleCellExperiment)\n",
    "library(devtools)\n",
    "devtools::load_all('../sc_annoTools')\n",
    "\n",
    "# 预处理过的Seurat类型的数据集\n",
    "test.obj <- readRDS('../annoTools/data/GSE81608.test.obj')\n",
    "ref.obj <- readRDS('../annoTools/data/GSE81608.ref.obj')\n",
    "\n",
    "# 以 SingleR为例\n",
    "pred.obj <- autoAnnoTools(\n",
    "    test.obj,\n",
    "    ref.obj = ref.obj,\n",
    "    ref.ctype = 'ActureAnno',\n",
    "    marker.lst = marker.lst,\n",
    "    method = 'SingleR',\n",
    "    select.marker = 'Seurat',\n",
    "    top.k = 30,\n",
    "    strategy = 'refernce-based'\n",
    ") \n",
    "\n",
    "# 以 SCINA为例\n",
    "Idents(ref.obj) <- ref.obj$CellType\n",
    "marker.lst <- findMarkerToolsForSc(ref.obj, to.list = TRUE, top.k = 30)\n",
    "pred.obj <- autoAnnoTools(\n",
    "    test.obj,\n",
    "    ref.obj = ref.obj,\n",
    "    ref.ctype = 'CellType',\n",
    "    marker.lst = marker.lst,\n",
    "    method = 'SCINA',\n",
    "    select.marker = 'Seurat',\n",
    "    top.k = 30,\n",
    "    strategy = 'marker-based'\n",
    ") "
   ]
  }
 ],
 "metadata": {
  "kernelspec": {
   "display_name": "R",
   "language": "R",
   "name": "ir"
  },
  "language_info": {
   "codemirror_mode": "r",
   "file_extension": ".r",
   "mimetype": "text/x-r-source",
   "name": "R",
   "pygments_lexer": "r",
   "version": "4.3.1"
  }
 },
 "nbformat": 4,
 "nbformat_minor": 5
}
