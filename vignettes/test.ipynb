{
 "cells": [
  {
   "cell_type": "code",
   "execution_count": 1,
   "id": "d867221d",
   "metadata": {
    "scrolled": true
   },
   "outputs": [
    {
     "name": "stderr",
     "output_type": "stream",
     "text": [
      "Loading required package: Seurat\n",
      "\n",
      "Attaching SeuratObject\n",
      "\n",
      "Seurat v4 was just loaded with SeuratObject v5; disabling v5 assays and\n",
      "validation routines, and ensuring assays work in strict v3/v4\n",
      "compatibility mode\n",
      "\n",
      "Loading required package: dplyr\n",
      "\n",
      "Warning message:\n",
      "\"package 'dplyr' was built under R version 4.3.2\"\n",
      "\n",
      "Attaching package: 'dplyr'\n",
      "\n",
      "\n",
      "The following objects are masked from 'package:stats':\n",
      "\n",
      "    filter, lag\n",
      "\n",
      "\n",
      "The following objects are masked from 'package:base':\n",
      "\n",
      "    intersect, setdiff, setequal, union\n",
      "\n",
      "\n",
      "Loading required package: HGNChelper\n",
      "\n",
      "Loading required package: devtools\n",
      "\n",
      "Loading required package: usethis\n",
      "\n",
      "Loading required package: SummarizedExperiment\n",
      "\n",
      "Loading required package: MatrixGenerics\n",
      "\n",
      "Loading required package: matrixStats\n",
      "\n",
      "Warning message:\n",
      "\"package 'matrixStats' was built under R version 4.3.2\"\n",
      "\n",
      "Attaching package: 'matrixStats'\n",
      "\n",
      "\n",
      "The following object is masked from 'package:dplyr':\n",
      "\n",
      "    count\n",
      "\n",
      "\n",
      "\n",
      "Attaching package: 'MatrixGenerics'\n",
      "\n",
      "\n",
      "The following objects are masked from 'package:matrixStats':\n",
      "\n",
      "    colAlls, colAnyNAs, colAnys, colAvgsPerRowSet, colCollapse,\n",
      "    colCounts, colCummaxs, colCummins, colCumprods, colCumsums,\n",
      "    colDiffs, colIQRDiffs, colIQRs, colLogSumExps, colMadDiffs,\n",
      "    colMads, colMaxs, colMeans2, colMedians, colMins, colOrderStats,\n",
      "    colProds, colQuantiles, colRanges, colRanks, colSdDiffs, colSds,\n",
      "    colSums2, colTabulates, colVarDiffs, colVars, colWeightedMads,\n",
      "    colWeightedMeans, colWeightedMedians, colWeightedSds,\n",
      "    colWeightedVars, rowAlls, rowAnyNAs, rowAnys, rowAvgsPerColSet,\n",
      "    rowCollapse, rowCounts, rowCummaxs, rowCummins, rowCumprods,\n",
      "    rowCumsums, rowDiffs, rowIQRDiffs, rowIQRs, rowLogSumExps,\n",
      "    rowMadDiffs, rowMads, rowMaxs, rowMeans2, rowMedians, rowMins,\n",
      "    rowOrderStats, rowProds, rowQuantiles, rowRanges, rowRanks,\n",
      "    rowSdDiffs, rowSds, rowSums2, rowTabulates, rowVarDiffs, rowVars,\n",
      "    rowWeightedMads, rowWeightedMeans, rowWeightedMedians,\n",
      "    rowWeightedSds, rowWeightedVars\n",
      "\n",
      "\n",
      "Loading required package: GenomicRanges\n",
      "\n",
      "Loading required package: stats4\n",
      "\n",
      "Loading required package: BiocGenerics\n",
      "\n",
      "\n",
      "Attaching package: 'BiocGenerics'\n",
      "\n",
      "\n",
      "The following objects are masked from 'package:dplyr':\n",
      "\n",
      "    combine, intersect, setdiff, union\n",
      "\n",
      "\n",
      "The following object is masked from 'package:SeuratObject':\n",
      "\n",
      "    intersect\n",
      "\n",
      "\n",
      "The following objects are masked from 'package:stats':\n",
      "\n",
      "    IQR, mad, sd, var, xtabs\n",
      "\n",
      "\n",
      "The following objects are masked from 'package:base':\n",
      "\n",
      "    anyDuplicated, aperm, append, as.data.frame, basename, cbind,\n",
      "    colnames, dirname, do.call, duplicated, eval, evalq, Filter, Find,\n",
      "    get, grep, grepl, intersect, is.unsorted, lapply, Map, mapply,\n",
      "    match, mget, order, paste, pmax, pmax.int, pmin, pmin.int,\n",
      "    Position, rank, rbind, Reduce, rownames, sapply, setdiff, sort,\n",
      "    table, tapply, union, unique, unsplit, which.max, which.min\n",
      "\n",
      "\n",
      "Loading required package: S4Vectors\n",
      "\n",
      "\n",
      "Attaching package: 'S4Vectors'\n",
      "\n",
      "\n",
      "The following objects are masked from 'package:dplyr':\n",
      "\n",
      "    first, rename\n",
      "\n",
      "\n",
      "The following object is masked from 'package:utils':\n",
      "\n",
      "    findMatches\n",
      "\n",
      "\n",
      "The following objects are masked from 'package:base':\n",
      "\n",
      "    expand.grid, I, unname\n",
      "\n",
      "\n",
      "Loading required package: IRanges\n",
      "\n",
      "\n",
      "Attaching package: 'IRanges'\n",
      "\n",
      "\n",
      "The following objects are masked from 'package:dplyr':\n",
      "\n",
      "    collapse, desc, slice\n",
      "\n",
      "\n",
      "The following object is masked from 'package:grDevices':\n",
      "\n",
      "    windows\n",
      "\n",
      "\n",
      "Loading required package: GenomeInfoDb\n",
      "\n",
      "Loading required package: Biobase\n",
      "\n",
      "Welcome to Bioconductor\n",
      "\n",
      "    Vignettes contain introductory material; view with\n",
      "    'browseVignettes()'. To cite Bioconductor, see\n",
      "    'citation(\"Biobase\")', and for packages 'citation(\"pkgname\")'.\n",
      "\n",
      "\n",
      "\n",
      "Attaching package: 'Biobase'\n",
      "\n",
      "\n",
      "The following object is masked from 'package:MatrixGenerics':\n",
      "\n",
      "    rowMedians\n",
      "\n",
      "\n",
      "The following objects are masked from 'package:matrixStats':\n",
      "\n",
      "    anyMissing, rowMedians\n",
      "\n",
      "\n",
      "\n",
      "Attaching package: 'SummarizedExperiment'\n",
      "\n",
      "\n",
      "The following object is masked from 'package:SeuratObject':\n",
      "\n",
      "    Assays\n",
      "\n",
      "\n",
      "The following object is masked from 'package:Seurat':\n",
      "\n",
      "    Assays\n",
      "\n",
      "\n"
     ]
    }
   ],
   "source": [
    "library(scAnnoX)\n",
    "library(SingleCellExperiment)"
   ]
  },
  {
   "cell_type": "code",
   "execution_count": 2,
   "id": "be308963",
   "metadata": {
    "scrolled": true
   },
   "outputs": [
    {
     "name": "stderr",
     "output_type": "stream",
     "text": [
      "Computing nearest neighbor graph\n",
      "\n",
      "Computing SNN\n",
      "\n"
     ]
    },
    {
     "name": "stdout",
     "output_type": "stream",
     "text": [
      "Modularity Optimizer version 1.3.0 by Ludo Waltman and Nees Jan van Eck\n",
      "\n",
      "Number of nodes: 220\n",
      "Number of edges: 4607\n",
      "\n",
      "Running Louvain algorithm...\n",
      "Maximum modularity in 10 random starts: 0.8111\n",
      "Number of communities: 6\n",
      "Elapsed time: 0 seconds\n"
     ]
    },
    {
     "name": "stderr",
     "output_type": "stream",
     "text": [
      "Computing nearest neighbor graph\n",
      "\n",
      "Computing SNN\n",
      "\n"
     ]
    },
    {
     "name": "stdout",
     "output_type": "stream",
     "text": [
      "Modularity Optimizer version 1.3.0 by Ludo Waltman and Nees Jan van Eck\n",
      "\n",
      "Number of nodes: 245\n",
      "Number of edges: 6333\n",
      "\n",
      "Running Louvain algorithm...\n",
      "Maximum modularity in 10 random starts: 0.8048\n",
      "Number of communities: 5\n",
      "Elapsed time: 0 seconds\n"
     ]
    }
   ],
   "source": [
    "test.obj <- readRDS('../data/test.obj') %>% commonClustering\n",
    "ref.obj <- readRDS('../data/ref.obj') %>% commonClustering"
   ]
  },
  {
   "cell_type": "markdown",
   "id": "b3b120ed",
   "metadata": {},
   "source": [
    "### Exclusively employed a singular single-cell annotation tool.\n",
    "\n",
    "#### A representative instance involves the utilization of an annotation tool grounded in a reference dataset, while another illustration entails the use of an annotation tool predicated upon a marker gene."
   ]
  },
  {
   "cell_type": "code",
   "execution_count": 3,
   "id": "3d789ac1",
   "metadata": {},
   "outputs": [
    {
     "data": {
      "text/html": [
       "<table class=\"dataframe\">\n",
       "<caption>A data.frame: 10 × 10</caption>\n",
       "<thead>\n",
       "\t<tr><th></th><th scope=col>orig.ident</th><th scope=col>nCount_RNA</th><th scope=col>nFeature_RNA</th><th scope=col>cell_id</th><th scope=col>experiment</th><th scope=col>assignment_LB</th><th scope=col>CellType</th><th scope=col>RNA_snn_res.0.8</th><th scope=col>seurat_clusters</th><th scope=col>SingleR</th></tr>\n",
       "\t<tr><th></th><th scope=col>&lt;fct&gt;</th><th scope=col>&lt;dbl&gt;</th><th scope=col>&lt;int&gt;</th><th scope=col>&lt;chr&gt;</th><th scope=col>&lt;chr&gt;</th><th scope=col>&lt;chr&gt;</th><th scope=col>&lt;chr&gt;</th><th scope=col>&lt;fct&gt;</th><th scope=col>&lt;fct&gt;</th><th scope=col>&lt;chr&gt;</th></tr>\n",
       "</thead>\n",
       "<tbody>\n",
       "\t<tr><th scope=row>A1_he2</th><td>A1 </td><td>29630.19</td><td>7229</td><td>A1_he2   </td><td>he2  </td><td>HE   </td><td>HE   </td><td>1</td><td>1</td><td>HE   </td></tr>\n",
       "\t<tr><th scope=row>A1_huvec</th><td>A1 </td><td>30603.64</td><td>7374</td><td>A1_huvec </td><td>huvec</td><td>EC   </td><td>EC   </td><td>4</td><td>4</td><td>EC   </td></tr>\n",
       "\t<tr><th scope=row>A10_he1</th><td>A10</td><td>26921.42</td><td>6185</td><td>A10_he1  </td><td>he1  </td><td>HE   </td><td>HE   </td><td>1</td><td>1</td><td>HE   </td></tr>\n",
       "\t<tr><th scope=row>A10_lb2</th><td>A10</td><td>21383.21</td><td>4296</td><td>A10_lb2  </td><td>lb2  </td><td>EC-LB</td><td>EC-LB</td><td>5</td><td>5</td><td>EC-LB</td></tr>\n",
       "\t<tr><th scope=row>A10_lb5</th><td>A10</td><td>22637.05</td><td>5307</td><td>A10_lb5  </td><td>lb5  </td><td>MC-LB</td><td>MC-LB</td><td>2</td><td>2</td><td>MC-LB</td></tr>\n",
       "\t<tr><th scope=row>A11_he1</th><td>A11</td><td>16551.88</td><td>3725</td><td>A11_he1  </td><td>he1  </td><td>HE   </td><td>HE   </td><td>3</td><td>3</td><td>HE-LB</td></tr>\n",
       "\t<tr><th scope=row>A11_lb5</th><td>A11</td><td>24529.42</td><td>5102</td><td>A11_lb5  </td><td>lb5  </td><td>EC-LB</td><td>EC-LB</td><td>5</td><td>5</td><td>EC-LB</td></tr>\n",
       "\t<tr><th scope=row>A12_he1</th><td>A12</td><td>24989.38</td><td>5695</td><td>A12_he1  </td><td>he1  </td><td>HE   </td><td>HE   </td><td>1</td><td>1</td><td>HE   </td></tr>\n",
       "\t<tr><th scope=row>A12_huvec</th><td>A12</td><td>32676.21</td><td>7801</td><td>A12_huvec</td><td>huvec</td><td>EC   </td><td>EC   </td><td>4</td><td>4</td><td>EC   </td></tr>\n",
       "\t<tr><th scope=row>A12_msc2</th><td>A12</td><td>23993.08</td><td>6268</td><td>A12_msc2 </td><td>msc2 </td><td>MC   </td><td>MC   </td><td>0</td><td>0</td><td>MC   </td></tr>\n",
       "</tbody>\n",
       "</table>\n"
      ],
      "text/latex": [
       "A data.frame: 10 × 10\n",
       "\\begin{tabular}{r|llllllllll}\n",
       "  & orig.ident & nCount\\_RNA & nFeature\\_RNA & cell\\_id & experiment & assignment\\_LB & CellType & RNA\\_snn\\_res.0.8 & seurat\\_clusters & SingleR\\\\\n",
       "  & <fct> & <dbl> & <int> & <chr> & <chr> & <chr> & <chr> & <fct> & <fct> & <chr>\\\\\n",
       "\\hline\n",
       "\tA1\\_he2 & A1  & 29630.19 & 7229 & A1\\_he2    & he2   & HE    & HE    & 1 & 1 & HE   \\\\\n",
       "\tA1\\_huvec & A1  & 30603.64 & 7374 & A1\\_huvec  & huvec & EC    & EC    & 4 & 4 & EC   \\\\\n",
       "\tA10\\_he1 & A10 & 26921.42 & 6185 & A10\\_he1   & he1   & HE    & HE    & 1 & 1 & HE   \\\\\n",
       "\tA10\\_lb2 & A10 & 21383.21 & 4296 & A10\\_lb2   & lb2   & EC-LB & EC-LB & 5 & 5 & EC-LB\\\\\n",
       "\tA10\\_lb5 & A10 & 22637.05 & 5307 & A10\\_lb5   & lb5   & MC-LB & MC-LB & 2 & 2 & MC-LB\\\\\n",
       "\tA11\\_he1 & A11 & 16551.88 & 3725 & A11\\_he1   & he1   & HE    & HE    & 3 & 3 & HE-LB\\\\\n",
       "\tA11\\_lb5 & A11 & 24529.42 & 5102 & A11\\_lb5   & lb5   & EC-LB & EC-LB & 5 & 5 & EC-LB\\\\\n",
       "\tA12\\_he1 & A12 & 24989.38 & 5695 & A12\\_he1   & he1   & HE    & HE    & 1 & 1 & HE   \\\\\n",
       "\tA12\\_huvec & A12 & 32676.21 & 7801 & A12\\_huvec & huvec & EC    & EC    & 4 & 4 & EC   \\\\\n",
       "\tA12\\_msc2 & A12 & 23993.08 & 6268 & A12\\_msc2  & msc2  & MC    & MC    & 0 & 0 & MC   \\\\\n",
       "\\end{tabular}\n"
      ],
      "text/markdown": [
       "\n",
       "A data.frame: 10 × 10\n",
       "\n",
       "| <!--/--> | orig.ident &lt;fct&gt; | nCount_RNA &lt;dbl&gt; | nFeature_RNA &lt;int&gt; | cell_id &lt;chr&gt; | experiment &lt;chr&gt; | assignment_LB &lt;chr&gt; | CellType &lt;chr&gt; | RNA_snn_res.0.8 &lt;fct&gt; | seurat_clusters &lt;fct&gt; | SingleR &lt;chr&gt; |\n",
       "|---|---|---|---|---|---|---|---|---|---|---|\n",
       "| A1_he2 | A1  | 29630.19 | 7229 | A1_he2    | he2   | HE    | HE    | 1 | 1 | HE    |\n",
       "| A1_huvec | A1  | 30603.64 | 7374 | A1_huvec  | huvec | EC    | EC    | 4 | 4 | EC    |\n",
       "| A10_he1 | A10 | 26921.42 | 6185 | A10_he1   | he1   | HE    | HE    | 1 | 1 | HE    |\n",
       "| A10_lb2 | A10 | 21383.21 | 4296 | A10_lb2   | lb2   | EC-LB | EC-LB | 5 | 5 | EC-LB |\n",
       "| A10_lb5 | A10 | 22637.05 | 5307 | A10_lb5   | lb5   | MC-LB | MC-LB | 2 | 2 | MC-LB |\n",
       "| A11_he1 | A11 | 16551.88 | 3725 | A11_he1   | he1   | HE    | HE    | 3 | 3 | HE-LB |\n",
       "| A11_lb5 | A11 | 24529.42 | 5102 | A11_lb5   | lb5   | EC-LB | EC-LB | 5 | 5 | EC-LB |\n",
       "| A12_he1 | A12 | 24989.38 | 5695 | A12_he1   | he1   | HE    | HE    | 1 | 1 | HE    |\n",
       "| A12_huvec | A12 | 32676.21 | 7801 | A12_huvec | huvec | EC    | EC    | 4 | 4 | EC    |\n",
       "| A12_msc2 | A12 | 23993.08 | 6268 | A12_msc2  | msc2  | MC    | MC    | 0 | 0 | MC    |\n",
       "\n"
      ],
      "text/plain": [
       "          orig.ident nCount_RNA nFeature_RNA cell_id   experiment assignment_LB\n",
       "A1_he2    A1         29630.19   7229         A1_he2    he2        HE           \n",
       "A1_huvec  A1         30603.64   7374         A1_huvec  huvec      EC           \n",
       "A10_he1   A10        26921.42   6185         A10_he1   he1        HE           \n",
       "A10_lb2   A10        21383.21   4296         A10_lb2   lb2        EC-LB        \n",
       "A10_lb5   A10        22637.05   5307         A10_lb5   lb5        MC-LB        \n",
       "A11_he1   A11        16551.88   3725         A11_he1   he1        HE           \n",
       "A11_lb5   A11        24529.42   5102         A11_lb5   lb5        EC-LB        \n",
       "A12_he1   A12        24989.38   5695         A12_he1   he1        HE           \n",
       "A12_huvec A12        32676.21   7801         A12_huvec huvec      EC           \n",
       "A12_msc2  A12        23993.08   6268         A12_msc2  msc2       MC           \n",
       "          CellType RNA_snn_res.0.8 seurat_clusters SingleR\n",
       "A1_he2    HE       1               1               HE     \n",
       "A1_huvec  EC       4               4               EC     \n",
       "A10_he1   HE       1               1               HE     \n",
       "A10_lb2   EC-LB    5               5               EC-LB  \n",
       "A10_lb5   MC-LB    2               2               MC-LB  \n",
       "A11_he1   HE       3               3               HE-LB  \n",
       "A11_lb5   EC-LB    5               5               EC-LB  \n",
       "A12_he1   HE       1               1               HE     \n",
       "A12_huvec EC       4               4               EC     \n",
       "A12_msc2  MC       0               0               MC     "
      ]
     },
     "metadata": {},
     "output_type": "display_data"
    }
   ],
   "source": [
    "# Using SingleR as an example.\n",
    "pred.obj <- autoAnnoTools(\n",
    "    test.obj,\n",
    "    ref.obj = ref.obj,\n",
    "    ref.ctype = 'CellType',\n",
    "    marker.lst = marker.lst,\n",
    "    method = 'SingleR',\n",
    "    select.marker = 'Seurat',\n",
    "    top.k = 30,\n",
    "    strategy = 'refernce-based'\n",
    ") \n",
    "head(pred.obj)"
   ]
  },
  {
   "cell_type": "code",
   "execution_count": 4,
   "id": "2143a1d2",
   "metadata": {},
   "outputs": [
    {
     "name": "stderr",
     "output_type": "stream",
     "text": [
      "Calculating cluster MC-LB\n",
      "\n",
      "Calculating cluster MC\n",
      "\n",
      "Calculating cluster HE\n",
      "\n",
      "Calculating cluster EC\n",
      "\n",
      "Calculating cluster EC-LB\n",
      "\n",
      "Calculating cluster HE-LB\n",
      "\n"
     ]
    },
    {
     "data": {
      "text/html": [
       "<table class=\"dataframe\">\n",
       "<caption>A data.frame: 10 × 10</caption>\n",
       "<thead>\n",
       "\t<tr><th></th><th scope=col>orig.ident</th><th scope=col>nCount_RNA</th><th scope=col>nFeature_RNA</th><th scope=col>cell_id</th><th scope=col>experiment</th><th scope=col>assignment_LB</th><th scope=col>CellType</th><th scope=col>RNA_snn_res.0.8</th><th scope=col>seurat_clusters</th><th scope=col>SCINA</th></tr>\n",
       "\t<tr><th></th><th scope=col>&lt;fct&gt;</th><th scope=col>&lt;dbl&gt;</th><th scope=col>&lt;int&gt;</th><th scope=col>&lt;chr&gt;</th><th scope=col>&lt;chr&gt;</th><th scope=col>&lt;chr&gt;</th><th scope=col>&lt;chr&gt;</th><th scope=col>&lt;fct&gt;</th><th scope=col>&lt;fct&gt;</th><th scope=col>&lt;chr&gt;</th></tr>\n",
       "</thead>\n",
       "<tbody>\n",
       "\t<tr><th scope=row>A1_he2</th><td>A1 </td><td>29630.19</td><td>7229</td><td>A1_he2   </td><td>he2  </td><td>HE   </td><td>HE   </td><td>1</td><td>1</td><td>HE   </td></tr>\n",
       "\t<tr><th scope=row>A1_huvec</th><td>A1 </td><td>30603.64</td><td>7374</td><td>A1_huvec </td><td>huvec</td><td>EC   </td><td>EC   </td><td>4</td><td>4</td><td>EC   </td></tr>\n",
       "\t<tr><th scope=row>A10_he1</th><td>A10</td><td>26921.42</td><td>6185</td><td>A10_he1  </td><td>he1  </td><td>HE   </td><td>HE   </td><td>1</td><td>1</td><td>HE   </td></tr>\n",
       "\t<tr><th scope=row>A10_lb2</th><td>A10</td><td>21383.21</td><td>4296</td><td>A10_lb2  </td><td>lb2  </td><td>EC-LB</td><td>EC-LB</td><td>5</td><td>5</td><td>EC-LB</td></tr>\n",
       "\t<tr><th scope=row>A10_lb5</th><td>A10</td><td>22637.05</td><td>5307</td><td>A10_lb5  </td><td>lb5  </td><td>MC-LB</td><td>MC-LB</td><td>2</td><td>2</td><td>MC-LB</td></tr>\n",
       "\t<tr><th scope=row>A11_he1</th><td>A11</td><td>16551.88</td><td>3725</td><td>A11_he1  </td><td>he1  </td><td>HE   </td><td>HE   </td><td>3</td><td>3</td><td>HE   </td></tr>\n",
       "\t<tr><th scope=row>A11_lb5</th><td>A11</td><td>24529.42</td><td>5102</td><td>A11_lb5  </td><td>lb5  </td><td>EC-LB</td><td>EC-LB</td><td>5</td><td>5</td><td>EC-LB</td></tr>\n",
       "\t<tr><th scope=row>A12_he1</th><td>A12</td><td>24989.38</td><td>5695</td><td>A12_he1  </td><td>he1  </td><td>HE   </td><td>HE   </td><td>1</td><td>1</td><td>HE   </td></tr>\n",
       "\t<tr><th scope=row>A12_huvec</th><td>A12</td><td>32676.21</td><td>7801</td><td>A12_huvec</td><td>huvec</td><td>EC   </td><td>EC   </td><td>4</td><td>4</td><td>EC   </td></tr>\n",
       "\t<tr><th scope=row>A12_msc2</th><td>A12</td><td>23993.08</td><td>6268</td><td>A12_msc2 </td><td>msc2 </td><td>MC   </td><td>MC   </td><td>0</td><td>0</td><td>MC   </td></tr>\n",
       "</tbody>\n",
       "</table>\n"
      ],
      "text/latex": [
       "A data.frame: 10 × 10\n",
       "\\begin{tabular}{r|llllllllll}\n",
       "  & orig.ident & nCount\\_RNA & nFeature\\_RNA & cell\\_id & experiment & assignment\\_LB & CellType & RNA\\_snn\\_res.0.8 & seurat\\_clusters & SCINA\\\\\n",
       "  & <fct> & <dbl> & <int> & <chr> & <chr> & <chr> & <chr> & <fct> & <fct> & <chr>\\\\\n",
       "\\hline\n",
       "\tA1\\_he2 & A1  & 29630.19 & 7229 & A1\\_he2    & he2   & HE    & HE    & 1 & 1 & HE   \\\\\n",
       "\tA1\\_huvec & A1  & 30603.64 & 7374 & A1\\_huvec  & huvec & EC    & EC    & 4 & 4 & EC   \\\\\n",
       "\tA10\\_he1 & A10 & 26921.42 & 6185 & A10\\_he1   & he1   & HE    & HE    & 1 & 1 & HE   \\\\\n",
       "\tA10\\_lb2 & A10 & 21383.21 & 4296 & A10\\_lb2   & lb2   & EC-LB & EC-LB & 5 & 5 & EC-LB\\\\\n",
       "\tA10\\_lb5 & A10 & 22637.05 & 5307 & A10\\_lb5   & lb5   & MC-LB & MC-LB & 2 & 2 & MC-LB\\\\\n",
       "\tA11\\_he1 & A11 & 16551.88 & 3725 & A11\\_he1   & he1   & HE    & HE    & 3 & 3 & HE   \\\\\n",
       "\tA11\\_lb5 & A11 & 24529.42 & 5102 & A11\\_lb5   & lb5   & EC-LB & EC-LB & 5 & 5 & EC-LB\\\\\n",
       "\tA12\\_he1 & A12 & 24989.38 & 5695 & A12\\_he1   & he1   & HE    & HE    & 1 & 1 & HE   \\\\\n",
       "\tA12\\_huvec & A12 & 32676.21 & 7801 & A12\\_huvec & huvec & EC    & EC    & 4 & 4 & EC   \\\\\n",
       "\tA12\\_msc2 & A12 & 23993.08 & 6268 & A12\\_msc2  & msc2  & MC    & MC    & 0 & 0 & MC   \\\\\n",
       "\\end{tabular}\n"
      ],
      "text/markdown": [
       "\n",
       "A data.frame: 10 × 10\n",
       "\n",
       "| <!--/--> | orig.ident &lt;fct&gt; | nCount_RNA &lt;dbl&gt; | nFeature_RNA &lt;int&gt; | cell_id &lt;chr&gt; | experiment &lt;chr&gt; | assignment_LB &lt;chr&gt; | CellType &lt;chr&gt; | RNA_snn_res.0.8 &lt;fct&gt; | seurat_clusters &lt;fct&gt; | SCINA &lt;chr&gt; |\n",
       "|---|---|---|---|---|---|---|---|---|---|---|\n",
       "| A1_he2 | A1  | 29630.19 | 7229 | A1_he2    | he2   | HE    | HE    | 1 | 1 | HE    |\n",
       "| A1_huvec | A1  | 30603.64 | 7374 | A1_huvec  | huvec | EC    | EC    | 4 | 4 | EC    |\n",
       "| A10_he1 | A10 | 26921.42 | 6185 | A10_he1   | he1   | HE    | HE    | 1 | 1 | HE    |\n",
       "| A10_lb2 | A10 | 21383.21 | 4296 | A10_lb2   | lb2   | EC-LB | EC-LB | 5 | 5 | EC-LB |\n",
       "| A10_lb5 | A10 | 22637.05 | 5307 | A10_lb5   | lb5   | MC-LB | MC-LB | 2 | 2 | MC-LB |\n",
       "| A11_he1 | A11 | 16551.88 | 3725 | A11_he1   | he1   | HE    | HE    | 3 | 3 | HE    |\n",
       "| A11_lb5 | A11 | 24529.42 | 5102 | A11_lb5   | lb5   | EC-LB | EC-LB | 5 | 5 | EC-LB |\n",
       "| A12_he1 | A12 | 24989.38 | 5695 | A12_he1   | he1   | HE    | HE    | 1 | 1 | HE    |\n",
       "| A12_huvec | A12 | 32676.21 | 7801 | A12_huvec | huvec | EC    | EC    | 4 | 4 | EC    |\n",
       "| A12_msc2 | A12 | 23993.08 | 6268 | A12_msc2  | msc2  | MC    | MC    | 0 | 0 | MC    |\n",
       "\n"
      ],
      "text/plain": [
       "          orig.ident nCount_RNA nFeature_RNA cell_id   experiment assignment_LB\n",
       "A1_he2    A1         29630.19   7229         A1_he2    he2        HE           \n",
       "A1_huvec  A1         30603.64   7374         A1_huvec  huvec      EC           \n",
       "A10_he1   A10        26921.42   6185         A10_he1   he1        HE           \n",
       "A10_lb2   A10        21383.21   4296         A10_lb2   lb2        EC-LB        \n",
       "A10_lb5   A10        22637.05   5307         A10_lb5   lb5        MC-LB        \n",
       "A11_he1   A11        16551.88   3725         A11_he1   he1        HE           \n",
       "A11_lb5   A11        24529.42   5102         A11_lb5   lb5        EC-LB        \n",
       "A12_he1   A12        24989.38   5695         A12_he1   he1        HE           \n",
       "A12_huvec A12        32676.21   7801         A12_huvec huvec      EC           \n",
       "A12_msc2  A12        23993.08   6268         A12_msc2  msc2       MC           \n",
       "          CellType RNA_snn_res.0.8 seurat_clusters SCINA\n",
       "A1_he2    HE       1               1               HE   \n",
       "A1_huvec  EC       4               4               EC   \n",
       "A10_he1   HE       1               1               HE   \n",
       "A10_lb2   EC-LB    5               5               EC-LB\n",
       "A10_lb5   MC-LB    2               2               MC-LB\n",
       "A11_he1   HE       3               3               HE   \n",
       "A11_lb5   EC-LB    5               5               EC-LB\n",
       "A12_he1   HE       1               1               HE   \n",
       "A12_huvec EC       4               4               EC   \n",
       "A12_msc2  MC       0               0               MC   "
      ]
     },
     "metadata": {},
     "output_type": "display_data"
    }
   ],
   "source": [
    "# Using SCINA as an example.\n",
    "Idents(ref.obj) <- ref.obj$CellType\n",
    "marker.lst <- findMarkerToolsForSc(ref.obj, to.list = TRUE, top.k = 30)\n",
    "pred.obj <- autoAnnoTools(\n",
    "    test.obj,\n",
    "    ref.obj = ref.obj,\n",
    "    ref.ctype = 'CellType',\n",
    "    marker.lst = marker.lst,\n",
    "    method = 'SCINA',\n",
    "    select.marker = 'Seurat',\n",
    "    top.k = 30,\n",
    "    strategy = 'marker-based'\n",
    ") \n",
    "head(pred.obj)"
   ]
  },
  {
   "cell_type": "markdown",
   "id": "08414153",
   "metadata": {},
   "source": [
    "### Employed a multitude of single-cell annotation tools.\n",
    "#### Assembling a vector of diverse annotation tools and iteratively annotating the tools within the vector, we generate annotation results encompassing a variety of tools."
   ]
  },
  {
   "cell_type": "code",
   "execution_count": 5,
   "id": "01e9b5c2",
   "metadata": {},
   "outputs": [
    {
     "name": "stderr",
     "output_type": "stream",
     "text": [
      "Calculating cluster MC-LB\n",
      "\n",
      "Calculating cluster MC\n",
      "\n",
      "Calculating cluster HE\n",
      "\n",
      "Calculating cluster EC\n",
      "\n",
      "Calculating cluster EC-LB\n",
      "\n",
      "Calculating cluster HE-LB\n",
      "\n"
     ]
    }
   ],
   "source": [
    "Idents(ref.obj) <- ref.obj$CellType\n",
    "marker.lst <- findMarkerToolsForSc(ref.obj, to.list = TRUE, top.k = 30)"
   ]
  },
  {
   "cell_type": "code",
   "execution_count": 6,
   "id": "e2c492fe",
   "metadata": {},
   "outputs": [],
   "source": [
    "anno.tools <- c('SingleR', 'Seurat', 'sciBet', 'scmap', 'CHETAH', 'scSorter', 'sc.type', 'cellID', 'scCATCH', 'SCINA')\n",
    "marker.based <- c('scSorter', 'sc.type', 'cellID', 'scCATCH', 'SCINA')"
   ]
  },
  {
   "cell_type": "code",
   "execution_count": 7,
   "id": "232e7169",
   "metadata": {
    "scrolled": true
   },
   "outputs": [
    {
     "name": "stdout",
     "output_type": "stream",
     "text": [
      "[1] \"Running SingleR...\\n\"\n",
      "[1] \"Running Seurat...\\n\"\n"
     ]
    },
    {
     "name": "stderr",
     "output_type": "stream",
     "text": [
      "Performing PCA on the provided reference using 2000 features as input.\n",
      "\n",
      "Projecting cell embeddings\n",
      "\n",
      "Finding neighborhoods\n",
      "\n",
      "Finding anchors\n",
      "\n",
      "\tFound 505 anchors\n",
      "\n",
      "Filtering anchors\n",
      "\n",
      "\tRetained 505 anchors\n",
      "\n",
      "Finding integration vectors\n",
      "\n",
      "Finding integration vector weights\n",
      "\n",
      "Predicting cell labels\n",
      "\n"
     ]
    },
    {
     "name": "stdout",
     "output_type": "stream",
     "text": [
      "[1] \"Running sciBet...\\n\"\n",
      "[1] \"Running scmap...\\n\"\n"
     ]
    },
    {
     "name": "stderr",
     "output_type": "stream",
     "text": [
      "\u001b[1m\u001b[22m\u001b[36mℹ\u001b[39m Loading \u001b[34mscmap\u001b[39m\n"
     ]
    },
    {
     "name": "stdout",
     "output_type": "stream",
     "text": [
      "[1] \"Hi\"\n"
     ]
    },
    {
     "name": "stderr",
     "output_type": "stream",
     "text": [
      "Warning message in linearModel(object, n_features):\n",
      "\"Your object does not contain counts() slot. Dropouts were calculated using logcounts() slot...\"\n",
      "Parameter M was not provided, will use M = n_features / 10 (if n_features <= 1000), where n_features is the number of selected features, and M = 100 otherwise.\n",
      "\n",
      "Parameter k was not provided, will use k = sqrt(number_of_cells)\n",
      "\n"
     ]
    },
    {
     "name": "stdout",
     "output_type": "stream",
     "text": [
      "[1] \"Hi\"\n"
     ]
    },
    {
     "name": "stderr",
     "output_type": "stream",
     "text": [
      "Warning message in linearModel(object, n_features):\n",
      "\"Your object does not contain counts() slot. Dropouts were calculated using logcounts() slot...\"\n",
      "Parameter M was not provided, will use M = n_features / 10 (if n_features <= 1000), where n_features is the number of selected features, and M = 100 otherwise.\n",
      "\n",
      "Parameter k was not provided, will use k = sqrt(number_of_cells)\n",
      "\n"
     ]
    },
    {
     "name": "stdout",
     "output_type": "stream",
     "text": [
      "[1] \"Running CHETAH...\\n\"\n"
     ]
    },
    {
     "name": "stderr",
     "output_type": "stream",
     "text": [
      "Found more than one class \"dist\" in cache; using the first, from namespace 'spam'\n",
      "\n",
      "Also defined by 'BiocGenerics'\n",
      "\n",
      "Found more than one class \"dist\" in cache; using the first, from namespace 'spam'\n",
      "\n",
      "Also defined by 'BiocGenerics'\n",
      "\n",
      "Preparing data....    \n",
      "\n",
      "\n",
      "Running analysis... \n",
      "\n",
      "\n"
     ]
    },
    {
     "name": "stdout",
     "output_type": "stream",
     "text": [
      "[1] \"Running scSorter...\\n\"\n",
      "[1] \"Running sc.type...\\n\"\n",
      "[1] \"Running cellID...\\n\"\n"
     ]
    },
    {
     "name": "stderr",
     "output_type": "stream",
     "text": [
      "Warning message:\n",
      "\"replacing previous import 'data.table::shift' by 'tictoc::shift' when loading 'CelliD'\"\n",
      "Computing Fuzzy Matrix\n",
      "\n"
     ]
    },
    {
     "name": "stdout",
     "output_type": "stream",
     "text": [
      "0.14 sec elapsed\n"
     ]
    },
    {
     "name": "stderr",
     "output_type": "stream",
     "text": [
      "Computing SVD\n",
      "\n"
     ]
    },
    {
     "name": "stdout",
     "output_type": "stream",
     "text": [
      "7.11 sec elapsed\n"
     ]
    },
    {
     "name": "stderr",
     "output_type": "stream",
     "text": [
      "Computing Coordinates\n",
      "\n"
     ]
    },
    {
     "name": "stdout",
     "output_type": "stream",
     "text": [
      "0.34 sec elapsed\n"
     ]
    },
    {
     "name": "stderr",
     "output_type": "stream",
     "text": [
      "\n",
      "calculating distance\n",
      "\n",
      "\n",
      "ranking genes\n",
      "\n",
      "6 pathways kept for hypergeometric test out of 6, 0 filtered as less than 10 features was present in the data\n",
      "\n",
      "\n",
      "calculating features overlap\n",
      "\n",
      "\n",
      "performing hypergeometric test\n",
      "\n",
      "\n"
     ]
    },
    {
     "name": "stdout",
     "output_type": "stream",
     "text": [
      "[1] \"Running scCATCH...\\n\"\n"
     ]
    },
    {
     "name": "stderr",
     "output_type": "stream",
     "text": [
      "\u001b[1m\u001b[22m\u001b[36mℹ\u001b[39m Loading \u001b[34mscCATCH\u001b[39m\n",
      "\n",
      "[+++++++++>--------------------] Finished: 33% Time 00:00:00\n",
      "\n",
      "[++++++++++++++>---------------] Finished: 50% Time 00:00:00\n",
      "\n",
      "[+++++++++++++++++++>----------] Finished: 67% Time 00:00:01\n",
      "\n",
      "[++++++++++++++++++++++++>-----] Finished: 83% Time 00:00:01\n",
      "\n",
      "[++++++++++++++++++++++++++++++] Finished:100% Time 00:00:02\n",
      "\n",
      "\n",
      "\n",
      "[+++++++++>--------------------] Finished: 33% Time 00:00:00\n",
      "\n",
      "[++++++++++++++>---------------] Finished: 50% Time 00:00:00\n",
      "\n",
      "[+++++++++++++++++++>----------] Finished: 67% Time 00:00:00\n",
      "\n",
      "[++++++++++++++++++++++++>-----] Finished: 83% Time 00:00:00\n",
      "\n",
      "[++++++++++++++++++++++++++++++] Finished:100% Time 00:00:00\n",
      "\n",
      "\n"
     ]
    },
    {
     "name": "stdout",
     "output_type": "stream",
     "text": [
      "[1] \"Running SCINA...\\n\"\n"
     ]
    }
   ],
   "source": [
    "anno.res <- lapply(anno.tools, function(tool) {\n",
    "    print(sprintf('Running %s...\\n', tool))\n",
    "    bool.val <- ifelse(tool %in% marker.based, 'marker-based', 'refernce-based')\n",
    "    \n",
    "    tmp.obj <- autoAnnoTools(\n",
    "        test.obj,\n",
    "        ref.obj = ref.obj,\n",
    "        ref.ctype = 'CellType',\n",
    "        marker.lst = marker.lst,\n",
    "        method = tool,\n",
    "        select.marker = 'Seurat',\n",
    "        top.k = 30,\n",
    "        strategy = bool.val\n",
    "    ) \n",
    "    tmp.obj@meta.data[, ncol(tmp.obj@meta.data)]\n",
    "}) %>% do.call(cbind, .) %>% `colnames<-`(anno.tools)"
   ]
  },
  {
   "cell_type": "markdown",
   "id": "f518cfd5",
   "metadata": {},
   "source": [
    "### Obtaining Predictive Results of \"scAnnoX\""
   ]
  },
  {
   "cell_type": "code",
   "execution_count": 8,
   "id": "ac38cd2a",
   "metadata": {
    "scrolled": true
   },
   "outputs": [
    {
     "data": {
      "text/html": [
       "<table class=\"dataframe\">\n",
       "<caption>A data.frame: 6 × 11</caption>\n",
       "<thead>\n",
       "\t<tr><th></th><th scope=col>SingleR</th><th scope=col>Seurat</th><th scope=col>sciBet</th><th scope=col>scmap</th><th scope=col>CHETAH</th><th scope=col>scSorter</th><th scope=col>sc.type</th><th scope=col>cellID</th><th scope=col>scCATCH</th><th scope=col>SCINA</th><th scope=col>scAnnoX</th></tr>\n",
       "\t<tr><th></th><th scope=col>&lt;chr&gt;</th><th scope=col>&lt;chr&gt;</th><th scope=col>&lt;chr&gt;</th><th scope=col>&lt;chr&gt;</th><th scope=col>&lt;chr&gt;</th><th scope=col>&lt;chr&gt;</th><th scope=col>&lt;chr&gt;</th><th scope=col>&lt;chr&gt;</th><th scope=col>&lt;chr&gt;</th><th scope=col>&lt;chr&gt;</th><th scope=col>&lt;chr&gt;</th></tr>\n",
       "</thead>\n",
       "<tbody>\n",
       "\t<tr><th scope=row>1</th><td>HE   </td><td>HE   </td><td>HE   </td><td>HE        </td><td>HE   </td><td>HE   </td><td>HE   </td><td>unassigned</td><td>HE   </td><td>HE   </td><td>HE   </td></tr>\n",
       "\t<tr><th scope=row>2</th><td>EC   </td><td>EC   </td><td>EC   </td><td>EC        </td><td>EC   </td><td>EC   </td><td>EC   </td><td>EC        </td><td>EC   </td><td>EC   </td><td>EC   </td></tr>\n",
       "\t<tr><th scope=row>3</th><td>HE   </td><td>HE   </td><td>HE   </td><td>HE        </td><td>HE   </td><td>HE   </td><td>HE   </td><td>HE        </td><td>HE   </td><td>HE   </td><td>HE   </td></tr>\n",
       "\t<tr><th scope=row>4</th><td>EC-LB</td><td>EC-LB</td><td>EC-LB</td><td>EC-LB     </td><td>Node3</td><td>EC-LB</td><td>EC-LB</td><td>EC-LB     </td><td>EC-LB</td><td>EC-LB</td><td>EC-LB</td></tr>\n",
       "\t<tr><th scope=row>5</th><td>MC-LB</td><td>MC-LB</td><td>MC-LB</td><td>MC-LB     </td><td>MC-LB</td><td>MC-LB</td><td>MC-LB</td><td>MC-LB     </td><td>MC-LB</td><td>MC-LB</td><td>MC-LB</td></tr>\n",
       "\t<tr><th scope=row>6</th><td>HE-LB</td><td>HE   </td><td>HE-LB</td><td>unassigned</td><td>Node4</td><td>HE   </td><td>HE   </td><td>unassigned</td><td>HE-LB</td><td>HE   </td><td>HE   </td></tr>\n",
       "</tbody>\n",
       "</table>\n"
      ],
      "text/latex": [
       "A data.frame: 6 × 11\n",
       "\\begin{tabular}{r|lllllllllll}\n",
       "  & SingleR & Seurat & sciBet & scmap & CHETAH & scSorter & sc.type & cellID & scCATCH & SCINA & scAnnoX\\\\\n",
       "  & <chr> & <chr> & <chr> & <chr> & <chr> & <chr> & <chr> & <chr> & <chr> & <chr> & <chr>\\\\\n",
       "\\hline\n",
       "\t1 & HE    & HE    & HE    & HE         & HE    & HE    & HE    & unassigned & HE    & HE    & HE   \\\\\n",
       "\t2 & EC    & EC    & EC    & EC         & EC    & EC    & EC    & EC         & EC    & EC    & EC   \\\\\n",
       "\t3 & HE    & HE    & HE    & HE         & HE    & HE    & HE    & HE         & HE    & HE    & HE   \\\\\n",
       "\t4 & EC-LB & EC-LB & EC-LB & EC-LB      & Node3 & EC-LB & EC-LB & EC-LB      & EC-LB & EC-LB & EC-LB\\\\\n",
       "\t5 & MC-LB & MC-LB & MC-LB & MC-LB      & MC-LB & MC-LB & MC-LB & MC-LB      & MC-LB & MC-LB & MC-LB\\\\\n",
       "\t6 & HE-LB & HE    & HE-LB & unassigned & Node4 & HE    & HE    & unassigned & HE-LB & HE    & HE   \\\\\n",
       "\\end{tabular}\n"
      ],
      "text/markdown": [
       "\n",
       "A data.frame: 6 × 11\n",
       "\n",
       "| <!--/--> | SingleR &lt;chr&gt; | Seurat &lt;chr&gt; | sciBet &lt;chr&gt; | scmap &lt;chr&gt; | CHETAH &lt;chr&gt; | scSorter &lt;chr&gt; | sc.type &lt;chr&gt; | cellID &lt;chr&gt; | scCATCH &lt;chr&gt; | SCINA &lt;chr&gt; | scAnnoX &lt;chr&gt; |\n",
       "|---|---|---|---|---|---|---|---|---|---|---|---|\n",
       "| 1 | HE    | HE    | HE    | HE         | HE    | HE    | HE    | unassigned | HE    | HE    | HE    |\n",
       "| 2 | EC    | EC    | EC    | EC         | EC    | EC    | EC    | EC         | EC    | EC    | EC    |\n",
       "| 3 | HE    | HE    | HE    | HE         | HE    | HE    | HE    | HE         | HE    | HE    | HE    |\n",
       "| 4 | EC-LB | EC-LB | EC-LB | EC-LB      | Node3 | EC-LB | EC-LB | EC-LB      | EC-LB | EC-LB | EC-LB |\n",
       "| 5 | MC-LB | MC-LB | MC-LB | MC-LB      | MC-LB | MC-LB | MC-LB | MC-LB      | MC-LB | MC-LB | MC-LB |\n",
       "| 6 | HE-LB | HE    | HE-LB | unassigned | Node4 | HE    | HE    | unassigned | HE-LB | HE    | HE    |\n",
       "\n"
      ],
      "text/plain": [
       "  SingleR Seurat sciBet scmap      CHETAH scSorter sc.type cellID     scCATCH\n",
       "1 HE      HE     HE     HE         HE     HE       HE      unassigned HE     \n",
       "2 EC      EC     EC     EC         EC     EC       EC      EC         EC     \n",
       "3 HE      HE     HE     HE         HE     HE       HE      HE         HE     \n",
       "4 EC-LB   EC-LB  EC-LB  EC-LB      Node3  EC-LB    EC-LB   EC-LB      EC-LB  \n",
       "5 MC-LB   MC-LB  MC-LB  MC-LB      MC-LB  MC-LB    MC-LB   MC-LB      MC-LB  \n",
       "6 HE-LB   HE     HE-LB  unassigned Node4  HE       HE      unassigned HE-LB  \n",
       "  SCINA scAnnoX\n",
       "1 HE    HE     \n",
       "2 EC    EC     \n",
       "3 HE    HE     \n",
       "4 EC-LB EC-LB  \n",
       "5 MC-LB MC-LB  \n",
       "6 HE    HE     "
      ]
     },
     "metadata": {},
     "output_type": "display_data"
    }
   ],
   "source": [
    "scAnnoX <- annoResult(anno.res)\n",
    "head(scAnnoX)"
   ]
  },
  {
   "cell_type": "markdown",
   "id": "efcb084a",
   "metadata": {},
   "source": [
    "### Visualization\n",
    "####  Show annotation results."
   ]
  },
  {
   "cell_type": "code",
   "execution_count": 9,
   "id": "8eedbc50",
   "metadata": {
    "scrolled": true
   },
   "outputs": [
    {
     "data": {
      "image/png": "[encoded data removed]",
      "text/plain": [
       "plot without title"
      ]
     },
     "metadata": {
      "image/png": {
       "height": 300,
       "width": 480
      }
     },
     "output_type": "display_data"
    }
   ],
   "source": [
    "acc <- apply(scAnnoX, 2, function(xx) sum(test.obj$CellType == xx) / ncol(test.obj))\n",
    "options(repr.plot.width = 8, repr.plot.height = 5)\n",
    "barplot(acc, las = 2 , col = rainbow(11))"
   ]
  }
 ],
 "metadata": {
  "kernelspec": {
   "display_name": "R",
   "language": "R",
   "name": "ir"
  },
  "language_info": {
   "codemirror_mode": "r",
   "file_extension": ".r",
   "mimetype": "text/x-r-source",
   "name": "R",
   "pygments_lexer": "r",
   "version": "4.3.1"
  }
 },
 "nbformat": 4,
 "nbformat_minor": 5
}
